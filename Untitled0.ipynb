{
  "nbformat": 4,
  "nbformat_minor": 0,
  "metadata": {
    "colab": {
      "provenance": [],
      "authorship_tag": "ABX9TyPQk+r0szt3p7hcxiA4/qrI",
      "include_colab_link": true
    },
    "kernelspec": {
      "name": "python3",
      "display_name": "Python 3"
    },
    "language_info": {
      "name": "python"
    }
  },
  "cells": [
    {
      "cell_type": "markdown",
      "metadata": {
        "id": "view-in-github",
        "colab_type": "text"
      },
      "source": [
        "<a href=\"https://colab.research.google.com/github/OSAKAAI/ankit-python-project/blob/main/Untitled0.ipynb\" target=\"_parent\"><img src=\"https://colab.research.google.com/assets/colab-badge.svg\" alt=\"Open In Colab\"/></a>"
      ]
    },
    {
      "cell_type": "code",
      "execution_count": 1,
      "metadata": {
        "colab": {
          "base_uri": "https://localhost:8080/"
        },
        "id": "qborVoBIGd5H",
        "outputId": "d584db5a-5dd3-404f-cc92-77d5683f44fc"
      },
      "outputs": [
        {
          "output_type": "stream",
          "name": "stdout",
          "text": [
            "Welcome to Guess the Number!\n",
            "I'm thinking of a number between 1 and 100.\n",
            "Take a guess: 5\n",
            "Too low! Try again.\n",
            "Take a guess: 66\n",
            "Too high! Try again.\n",
            "Take a guess: 45\n",
            "Too high! Try again.\n",
            "Take a guess: 40\n",
            "Too high! Try again.\n",
            "Take a guess: 30\n",
            "Too high! Try again.\n",
            "Take a guess: 20\n",
            "Too low! Try again.\n",
            "Take a guess: 21\n",
            "Too low! Try again.\n",
            "Take a guess: 22\n",
            "Congratulations! You've guessed the number in 8 attempts!\n"
          ]
        }
      ],
      "source": [
        "import random\n",
        "\n",
        "def guess_the_number():\n",
        "    print(\"Welcome to Guess the Number!\")\n",
        "    print(\"I'm thinking of a number between 1 and 100.\")\n",
        "    secret_number = random.randint(1, 100)\n",
        "\n",
        "    attempts = 0\n",
        "    while True:\n",
        "        try:\n",
        "            guess = int(input(\"Take a guess: \"))\n",
        "            attempts += 1\n",
        "\n",
        "            if guess < secret_number:\n",
        "                print(\"Too low! Try again.\")\n",
        "            elif guess > secret_number:\n",
        "                print(\"Too high! Try again.\")\n",
        "            else:\n",
        "                print(f\"Congratulations! You've guessed the number in {attempts} attempts!\")\n",
        "                break\n",
        "        except ValueError:\n",
        "            print(\"Invalid input. Please enter a valid number.\")\n",
        "\n",
        "# Call the function directly\n",
        "guess_the_number()"
      ]
    }
  ]
}